{
 "cells": [
  {
   "cell_type": "code",
   "execution_count": 24,
   "metadata": {
    "scrolled": true
   },
   "outputs": [],
   "source": [
    "import pandas as pd\n",
    "import numpy as np\n",
    "import matplotlib.pyplot as plt\n",
    "from keras.models import Sequential\n",
    "from keras.layers import LSTM, Dropout, Dense, Activation\n",
    "import datetime\n",
    "from sklearn import preprocessing"
   ]
  },
  {
   "cell_type": "code",
   "execution_count": 25,
   "metadata": {
    "scrolled": true
   },
   "outputs": [
    {
     "name": "stdout",
     "output_type": "stream",
     "text": [
      "Model: \"sequential_2\"\n",
      "_________________________________________________________________\n",
      "Layer (type)                 Output Shape              Param #   \n",
      "=================================================================\n",
      "lstm_3 (LSTM)                (None, 10, 10)            480       \n",
      "_________________________________________________________________\n",
      "lstm_4 (LSTM)                (None, 16)                1728      \n",
      "_________________________________________________________________\n",
      "dense_2 (Dense)              (None, 1)                 17        \n",
      "=================================================================\n",
      "Total params: 2,225\n",
      "Trainable params: 2,225\n",
      "Non-trainable params: 0\n",
      "_________________________________________________________________\n"
     ]
    }
   ],
   "source": [
    "model = Sequential()\n",
    "model.add(LSTM(10, return_sequences = True, input_shape=(10,1)))\n",
    "model.add(LSTM(16,return_sequences = False))\n",
    "model.add(Dense(1,activation='linear'))\n",
    "model.compile(loss='mse',optimizer='rmsprop')\n",
    "model.summary()"
   ]
  },
  {
   "cell_type": "code",
   "execution_count": 3,
   "metadata": {
    "scrolled": true
   },
   "outputs": [
    {
     "name": "stdout",
     "output_type": "stream",
     "text": [
      "WARNING:tensorflow:From C:\\Users\\dnjsw\\Anaconda3\\lib\\site-packages\\tensorflow\\python\\ops\\math_grad.py:1250: add_dispatch_support.<locals>.wrapper (from tensorflow.python.ops.array_ops) is deprecated and will be removed in a future version.\n",
      "Instructions for updating:\n",
      "Use tf.where in 2.0, which has the same broadcast rule as np.where\n",
      "WARNING:tensorflow:From C:\\Users\\dnjsw\\Anaconda3\\lib\\site-packages\\keras\\backend\\tensorflow_backend.py:1033: The name tf.assign_add is deprecated. Please use tf.compat.v1.assign_add instead.\n",
      "\n",
      "WARNING:tensorflow:From C:\\Users\\dnjsw\\Anaconda3\\lib\\site-packages\\keras\\backend\\tensorflow_backend.py:1020: The name tf.assign is deprecated. Please use tf.compat.v1.assign instead.\n",
      "\n",
      "Train on 19 samples, validate on 8 samples\n",
      "Epoch 1/10\n",
      "19/19 [==============================] - 1s 66ms/step - loss: 0.1026 - val_loss: 0.0704\n",
      "Epoch 2/10\n",
      "19/19 [==============================] - 0s 10ms/step - loss: 0.0035 - val_loss: 0.0134\n",
      "Epoch 3/10\n",
      "19/19 [==============================] - 0s 10ms/step - loss: 0.0016 - val_loss: 0.0225\n",
      "Epoch 4/10\n",
      "19/19 [==============================] - 0s 11ms/step - loss: 0.0014 - val_loss: 0.0121\n",
      "Epoch 5/10\n",
      "19/19 [==============================] - 0s 19ms/step - loss: 0.0011 - val_loss: 0.0095\n",
      "Epoch 6/10\n",
      "19/19 [==============================] - 0s 12ms/step - loss: 9.1250e-04 - val_loss: 0.0012\n",
      "Epoch 7/10\n",
      "19/19 [==============================] - 0s 11ms/step - loss: 0.0011 - val_loss: 0.0073\n",
      "Epoch 8/10\n",
      "19/19 [==============================] - 0s 10ms/step - loss: 0.0011 - val_loss: 0.0024\n",
      "Epoch 9/10\n",
      "19/19 [==============================] - 0s 11ms/step - loss: 7.5999e-04 - val_loss: 0.0132\n",
      "Epoch 10/10\n",
      "19/19 [==============================] - 0s 10ms/step - loss: 0.0010 - val_loss: 0.0065\n",
      "\n",
      "\n",
      "======================= result ========================\n",
      "product_price_prediction : 206524.84원\n",
      "=======================================================\n"
     ]
    }
   ],
   "source": [
    "df = pd.read_csv(\"product_price.csv\") \n",
    "\n",
    "price = df['total']\n",
    "price_max = max(price)\n",
    "price_min = min(price)\n",
    "price_max\n",
    "\n",
    "price = ((price-price_min)/(price_max-price_min))\n",
    "\n",
    "#creaete Windows\n",
    "seq_len = 10 #최근 10일에 데이터를 가지고 미래 예측\n",
    "sequence_length = seq_len + 1\n",
    "\n",
    "result = []\n",
    "for index in range(len(price)-sequence_length):\n",
    "    result.append(price[index:index+sequence_length])\n",
    "    \n",
    "normalized_data = []\n",
    "for window in result:\n",
    "    normalized_data.append(window)\n",
    "result = np.array(normalized_data)\n",
    "\n",
    "row = int(round(result.shape[0]*0.7))\n",
    "train = result[:row,:]\n",
    "np.random.shuffle(train)\n",
    "\n",
    "x_train = train[:,:-1]\n",
    "x_train = np.reshape(x_train,(x_train.shape[0],x_train.shape[1],1))\n",
    "y_train = train[:,-1]\n",
    "\n",
    "x_test = result[row:,:-1]\n",
    "x_test = np.reshape(x_test,(x_test.shape[0],x_test.shape[1],1))\n",
    "y_test = result[row:,-1]\n",
    "\n",
    "x_train.shape, x_test.shape\n",
    "\n",
    "model.fit(x_train,y_train,\n",
    "          validation_data=(x_test,y_test),\n",
    "          batch_size=1,\n",
    "          epochs=10)\n",
    "\n",
    "pred = model.predict(x_test)\n",
    "result = pred[-1]*(price_max-price_min)+price_max\n",
    "price_prediction = \"%0.2f\"%result\n",
    "\n",
    "print(\"\\n\")\n",
    "print(\"======================= result ========================\")\n",
    "print(\"product_price_prediction : \"+price_prediction+\"원\")\n",
    "print(\"=======================================================\")"
   ]
  },
  {
   "cell_type": "code",
   "execution_count": null,
   "metadata": {
    "collapsed": true
   },
   "outputs": [],
   "source": []
  },
  {
   "cell_type": "code",
   "execution_count": 10,
   "metadata": {
    "collapsed": true
   },
   "outputs": [],
   "source": [
    "from flask import Flask\n",
    "\n",
    "app = Flask(__name__)\n",
    "\n",
    "@app.route(\"/\")\n",
    "def helloworld():\n",
    "    return \"Hello World\""
   ]
  },
  {
   "cell_type": "code",
   "execution_count": 12,
   "metadata": {
    "scrolled": true
   },
   "outputs": [
    {
     "name": "stderr",
     "output_type": "stream",
     "text": [
      " * Running on http://127.0.0.1:8080/ (Press CTRL+C to quit)\n",
      "127.0.0.1 - - [10/Dec/2019 14:39:16] \"\u001b[37mGET / HTTP/1.1\u001b[0m\" 200 -\n",
      "127.0.0.1 - - [10/Dec/2019 14:39:16] \"\u001b[33mGET /favicon.ico HTTP/1.1\u001b[0m\" 404 -\n"
     ]
    }
   ],
   "source": [
    "if __name__ == \"__main__\":              \n",
    "    app.run(host=\"127.0.0.1\", port=\"8080\")"
   ]
  },
  {
   "cell_type": "code",
   "execution_count": null,
   "metadata": {
    "collapsed": true
   },
   "outputs": [],
   "source": []
  },
  {
   "cell_type": "code",
   "execution_count": 13,
   "metadata": {
    "collapsed": true
   },
   "outputs": [],
   "source": [
    "import os\n",
    "from flask import Flask, request, redirect, url_for, render_template\n",
    "from werkzeug import secure_filename\n",
    "\n",
    "UPLOAD_FOLDER = '/var/www/jpub/uploads'\n",
    "ALLOWED_EXTENSIONS = set(['txt','pdf','png','jpg','jpeg','gif'])\n",
    "\n",
    "app = Flask(__name__)\n",
    "app.config['UPLOAD_FOLDER'] = UPLOAD_FOLDER\n",
    "\n",
    "def allowed_file(filename):\n",
    "    return '.' in filenamed and \\filename.rsplit('.',1)[1] in ALLOWED_EXTENSIONS\n",
    "\n",
    "@app.route('/',methods=['GET','POST'])\n",
    "def upload_file():\n",
    "    if request.method == 'POST':\n",
    "        file = request.files['attach']\n",
    "        if file and allowed_file(file.filename):\n",
    "            filename = secure_filename(file.filename)\n",
    "            file.save(os.path.join(app.config['UPLOAD_FOLDER'],filename))\n",
    "            return \"fileupload ok\"\n",
    "        return render_template(\"upload.html\")"
   ]
  },
  {
   "cell_type": "code",
   "execution_count": null,
   "metadata": {
    "collapsed": true
   },
   "outputs": [],
   "source": []
  },
  {
   "cell_type": "code",
   "execution_count": 33,
   "metadata": {
    "collapsed": true
   },
   "outputs": [],
   "source": [
    "from flask import Flask, render_template, request\n",
    "from werkzeug import secure_filename\n",
    "\n",
    "app = Flask(__name__)\n",
    "\n",
    "@app.route('/upload')\n",
    "def render_file():\n",
    "    return render_template('upload.html')\n",
    "\n",
    "@app.route('/fileUpload', methods = ['GET','POST'])\n",
    "def upload_file():\n",
    "    if request.method == 'POST':\n",
    "        f = request.files['img']\n",
    "        s = 'success'\n",
    "        return str(s)"
   ]
  },
  {
   "cell_type": "code",
   "execution_count": 34,
   "metadata": {
    "scrolled": true
   },
   "outputs": [
    {
     "name": "stderr",
     "output_type": "stream",
     "text": [
      " * Running on http://192.9.114.151:8080/ (Press CTRL+C to quit)\n",
      "192.9.80.96 - - [10/Dec/2019 15:52:44] \"\u001b[37mPOST /fileUpload HTTP/1.1\u001b[0m\" 200 -\n"
     ]
    }
   ],
   "source": [
    "if __name__ == \"__main__\":              \n",
    "    app.run(host=\"192.9.114.151\", port=\"8080\")"
   ]
  },
  {
   "cell_type": "code",
   "execution_count": null,
   "metadata": {
    "collapsed": true
   },
   "outputs": [],
   "source": []
  },
  {
   "cell_type": "code",
   "execution_count": null,
   "metadata": {
    "collapsed": true
   },
   "outputs": [],
   "source": []
  },
  {
   "cell_type": "code",
   "execution_count": 35,
   "metadata": {
    "collapsed": true
   },
   "outputs": [],
   "source": [
    "from flask import Flask, render_template, request\n",
    "app = Flask(__name__)\n",
    "\n",
    "@app.route('/result',methods = ['POST','GET'])\n",
    "def result():\n",
    "    if request.method == 'POST':\n",
    "        result = result.form\n",
    "        return "
   ]
  },
  {
   "cell_type": "code",
   "execution_count": 37,
   "metadata": {
    "collapsed": true
   },
   "outputs": [],
   "source": [
    "from flask import Flask, render_template, request\n",
    "app = Flask(__name__)\n",
    "\n",
    "@app.route('/')\n",
    "def student():\n",
    "    return render_template('student.html')\n",
    "\n",
    "@app.route('/result',methods = ['POST', 'GET'])\n",
    "def result():\n",
    "    if request.method == 'POST':\n",
    "        result = request.form\n",
    "        return render_template(\"result.html\",result = result)"
   ]
  },
  {
   "cell_type": "code",
   "execution_count": 41,
   "metadata": {
    "scrolled": true
   },
   "outputs": [
    {
     "name": "stderr",
     "output_type": "stream",
     "text": [
      " * Running on http://127.0.0.1:8080/ (Press CTRL+C to quit)\n",
      "[2019-12-10 16:17:38,526] ERROR in app: Exception on /result [POST]\n",
      "Traceback (most recent call last):\n",
      "  File \"C:\\Users\\dnjsw\\Anaconda3\\lib\\site-packages\\flask\\app.py\", line 1982, in wsgi_app\n",
      "    response = self.full_dispatch_request()\n",
      "  File \"C:\\Users\\dnjsw\\Anaconda3\\lib\\site-packages\\flask\\app.py\", line 1614, in full_dispatch_request\n",
      "    rv = self.handle_user_exception(e)\n",
      "  File \"C:\\Users\\dnjsw\\Anaconda3\\lib\\site-packages\\flask\\app.py\", line 1517, in handle_user_exception\n",
      "    reraise(exc_type, exc_value, tb)\n",
      "  File \"C:\\Users\\dnjsw\\Anaconda3\\lib\\site-packages\\flask\\_compat.py\", line 33, in reraise\n",
      "    raise value\n",
      "  File \"C:\\Users\\dnjsw\\Anaconda3\\lib\\site-packages\\flask\\app.py\", line 1612, in full_dispatch_request\n",
      "    rv = self.dispatch_request()\n",
      "  File \"C:\\Users\\dnjsw\\Anaconda3\\lib\\site-packages\\flask\\app.py\", line 1598, in dispatch_request\n",
      "    return self.view_functions[rule.endpoint](**req.view_args)\n",
      "  File \"<ipython-input-37-edb2f3715b3c>\", line 12, in result\n",
      "    return render_template(\"result.html\",result = result)\n",
      "  File \"C:\\Users\\dnjsw\\Anaconda3\\lib\\site-packages\\flask\\templating.py\", line 133, in render_template\n",
      "    return _render(ctx.app.jinja_env.get_or_select_template(template_name_or_list),\n",
      "  File \"C:\\Users\\dnjsw\\Anaconda3\\lib\\site-packages\\jinja2\\environment.py\", line 869, in get_or_select_template\n",
      "    return self.get_template(template_name_or_list, parent, globals)\n",
      "  File \"C:\\Users\\dnjsw\\Anaconda3\\lib\\site-packages\\jinja2\\environment.py\", line 830, in get_template\n",
      "    return self._load_template(name, self.make_globals(globals))\n",
      "  File \"C:\\Users\\dnjsw\\Anaconda3\\lib\\site-packages\\jinja2\\environment.py\", line 804, in _load_template\n",
      "    template = self.loader.load(self, name, globals)\n",
      "  File \"C:\\Users\\dnjsw\\Anaconda3\\lib\\site-packages\\jinja2\\loaders.py\", line 113, in load\n",
      "    source, filename, uptodate = self.get_source(environment, name)\n",
      "  File \"C:\\Users\\dnjsw\\Anaconda3\\lib\\site-packages\\flask\\templating.py\", line 57, in get_source\n",
      "    return self._get_source_fast(environment, template)\n",
      "  File \"C:\\Users\\dnjsw\\Anaconda3\\lib\\site-packages\\flask\\templating.py\", line 85, in _get_source_fast\n",
      "    raise TemplateNotFound(template)\n",
      "jinja2.exceptions.TemplateNotFound: result.html\n",
      "127.0.0.1 - - [10/Dec/2019 16:17:38] \"\u001b[1m\u001b[35mPOST /result HTTP/1.1\u001b[0m\" 500 -\n"
     ]
    }
   ],
   "source": [
    "if __name__ == \"__main__\":              \n",
    "    app.run(host=\"127.0.0.1\", port=\"8080\")"
   ]
  },
  {
   "cell_type": "code",
   "execution_count": null,
   "metadata": {
    "collapsed": true
   },
   "outputs": [],
   "source": []
  },
  {
   "cell_type": "code",
   "execution_count": null,
   "metadata": {
    "collapsed": true
   },
   "outputs": [],
   "source": []
  },
  {
   "cell_type": "code",
   "execution_count": 46,
   "metadata": {
    "collapsed": true
   },
   "outputs": [],
   "source": [
    "from flask import Flask, render_template, request\n",
    "app = Flask(__name__)\n",
    "\n",
    "@app.route('/')\n",
    "def student():\n",
    "    return render_template('student.html')\n",
    "\n",
    "@app.route('/result',methods = ['POST', 'GET'])\n",
    "def result():\n",
    "    if request.method == 'POST':\n",
    "        result = request.form\n",
    "        return \"<h1>\"+result+\"</h1>\"\n"
   ]
  },
  {
   "cell_type": "code",
   "execution_count": 47,
   "metadata": {
    "scrolled": true
   },
   "outputs": [
    {
     "name": "stderr",
     "output_type": "stream",
     "text": [
      " * Running on http://127.0.0.1:8080/ (Press CTRL+C to quit)\n",
      "[2019-12-10 16:22:43,876] ERROR in app: Exception on /result [POST]\n",
      "Traceback (most recent call last):\n",
      "  File \"C:\\Users\\dnjsw\\Anaconda3\\lib\\site-packages\\flask\\app.py\", line 1982, in wsgi_app\n",
      "    response = self.full_dispatch_request()\n",
      "  File \"C:\\Users\\dnjsw\\Anaconda3\\lib\\site-packages\\flask\\app.py\", line 1614, in full_dispatch_request\n",
      "    rv = self.handle_user_exception(e)\n",
      "  File \"C:\\Users\\dnjsw\\Anaconda3\\lib\\site-packages\\flask\\app.py\", line 1517, in handle_user_exception\n",
      "    reraise(exc_type, exc_value, tb)\n",
      "  File \"C:\\Users\\dnjsw\\Anaconda3\\lib\\site-packages\\flask\\_compat.py\", line 33, in reraise\n",
      "    raise value\n",
      "  File \"C:\\Users\\dnjsw\\Anaconda3\\lib\\site-packages\\flask\\app.py\", line 1612, in full_dispatch_request\n",
      "    rv = self.dispatch_request()\n",
      "  File \"C:\\Users\\dnjsw\\Anaconda3\\lib\\site-packages\\flask\\app.py\", line 1598, in dispatch_request\n",
      "    return self.view_functions[rule.endpoint](**req.view_args)\n",
      "  File \"<ipython-input-46-5c0e5ea62fde>\", line 12, in result\n",
      "    return \"<h1>\"+result+\"</h1>\"\n",
      "TypeError: Can't convert 'ImmutableMultiDict' object to str implicitly\n",
      "127.0.0.1 - - [10/Dec/2019 16:22:43] \"\u001b[1m\u001b[35mPOST /result HTTP/1.1\u001b[0m\" 500 -\n"
     ]
    }
   ],
   "source": [
    "if __name__ == \"__main__\":              \n",
    "    app.run(host=\"127.0.0.1\", port=\"8080\")"
   ]
  },
  {
   "cell_type": "code",
   "execution_count": null,
   "metadata": {
    "collapsed": true
   },
   "outputs": [],
   "source": [
    "#jsonify(img) -> jsoon 형태"
   ]
  },
  {
   "cell_type": "code",
   "execution_count": null,
   "metadata": {
    "collapsed": true
   },
   "outputs": [],
   "source": []
  },
  {
   "cell_type": "code",
   "execution_count": null,
   "metadata": {
    "collapsed": true
   },
   "outputs": [],
   "source": []
  },
  {
   "cell_type": "code",
   "execution_count": 57,
   "metadata": {
    "collapsed": true
   },
   "outputs": [],
   "source": [
    "from flask import Flask, render_template, request\n",
    "\n",
    "app = Flask(__name__)\n",
    "\n",
    "\n",
    "@app.route('/')\n",
    "def hello_world():\n",
    "    return 'Hello World!'\n",
    "\n",
    "@app.route('/test')\n",
    "def test():\n",
    "    return render_template('post.html')\n",
    "\n",
    "@app.route('/result', methods=['POST'])\n",
    "def post():\n",
    "    value = request.get_json()\n",
    "    return str(value)"
   ]
  },
  {
   "cell_type": "code",
   "execution_count": 58,
   "metadata": {},
   "outputs": [
    {
     "name": "stderr",
     "output_type": "stream",
     "text": [
      " * Running on http://192.9.114.151:8080/ (Press CTRL+C to quit)\n",
      "192.9.80.96 - - [10/Dec/2019 16:59:00] \"\u001b[1m\u001b[31mGET /result HTTP/1.1\u001b[0m\" 405 -\n",
      "192.9.80.96 - - [10/Dec/2019 16:59:41] \"\u001b[37mPOST /result HTTP/1.1\u001b[0m\" 200 -\n",
      "192.9.114.151 - - [10/Dec/2019 17:02:30] \"\u001b[37mGET / HTTP/1.1\u001b[0m\" 200 -\n"
     ]
    }
   ],
   "source": [
    "if __name__ == \"__main__\":              \n",
    "    app.run(host=\"192.9.114.151\", port=\"8080\")"
   ]
  },
  {
   "cell_type": "code",
   "execution_count": null,
   "metadata": {
    "collapsed": true
   },
   "outputs": [],
   "source": []
  },
  {
   "cell_type": "code",
   "execution_count": 5,
   "metadata": {
    "scrolled": true
   },
   "outputs": [
    {
     "ename": "JSONDecodeError",
     "evalue": "Expecting property name enclosed in double quotes: line 1 column 2 (char 1)",
     "output_type": "error",
     "traceback": [
      "\u001b[1;31m---------------------------------------------------------------------------\u001b[0m",
      "\u001b[1;31mJSONDecodeError\u001b[0m                           Traceback (most recent call last)",
      "\u001b[1;32m<ipython-input-5-5822387e9e2e>\u001b[0m in \u001b[0;36m<module>\u001b[1;34m()\u001b[0m\n\u001b[0;32m      1\u001b[0m \u001b[1;32mimport\u001b[0m \u001b[0mjson\u001b[0m\u001b[1;33m\u001b[0m\u001b[0m\n\u001b[0;32m      2\u001b[0m \u001b[1;32mwith\u001b[0m \u001b[0mopen\u001b[0m\u001b[1;33m(\u001b[0m\u001b[1;34m\"product_price_predic.json\"\u001b[0m\u001b[1;33m,\u001b[0m\u001b[1;34m\"r\"\u001b[0m\u001b[1;33m)\u001b[0m \u001b[1;32mas\u001b[0m \u001b[0mf\u001b[0m\u001b[1;33m:\u001b[0m\u001b[1;33m\u001b[0m\u001b[0m\n\u001b[1;32m----> 3\u001b[1;33m     \u001b[0mjson_data\u001b[0m \u001b[1;33m=\u001b[0m \u001b[0mjson\u001b[0m\u001b[1;33m.\u001b[0m\u001b[0mload\u001b[0m\u001b[1;33m(\u001b[0m\u001b[0mf\u001b[0m\u001b[1;33m)\u001b[0m\u001b[1;33m\u001b[0m\u001b[0m\n\u001b[0m\u001b[0;32m      4\u001b[0m \u001b[0mprint\u001b[0m\u001b[1;33m(\u001b[0m\u001b[0mjson\u001b[0m\u001b[1;33m.\u001b[0m\u001b[0mdumps\u001b[0m\u001b[1;33m(\u001b[0m\u001b[0mjson_data\u001b[0m\u001b[1;33m)\u001b[0m\u001b[1;33m)\u001b[0m\u001b[1;33m\u001b[0m\u001b[0m\n",
      "\u001b[1;32mC:\\Users\\dnjsw\\Anaconda3\\lib\\json\\__init__.py\u001b[0m in \u001b[0;36mload\u001b[1;34m(fp, cls, object_hook, parse_float, parse_int, parse_constant, object_pairs_hook, **kw)\u001b[0m\n\u001b[0;32m    266\u001b[0m         \u001b[0mcls\u001b[0m\u001b[1;33m=\u001b[0m\u001b[0mcls\u001b[0m\u001b[1;33m,\u001b[0m \u001b[0mobject_hook\u001b[0m\u001b[1;33m=\u001b[0m\u001b[0mobject_hook\u001b[0m\u001b[1;33m,\u001b[0m\u001b[1;33m\u001b[0m\u001b[0m\n\u001b[0;32m    267\u001b[0m         \u001b[0mparse_float\u001b[0m\u001b[1;33m=\u001b[0m\u001b[0mparse_float\u001b[0m\u001b[1;33m,\u001b[0m \u001b[0mparse_int\u001b[0m\u001b[1;33m=\u001b[0m\u001b[0mparse_int\u001b[0m\u001b[1;33m,\u001b[0m\u001b[1;33m\u001b[0m\u001b[0m\n\u001b[1;32m--> 268\u001b[1;33m         parse_constant=parse_constant, object_pairs_hook=object_pairs_hook, **kw)\n\u001b[0m\u001b[0;32m    269\u001b[0m \u001b[1;33m\u001b[0m\u001b[0m\n\u001b[0;32m    270\u001b[0m \u001b[1;33m\u001b[0m\u001b[0m\n",
      "\u001b[1;32mC:\\Users\\dnjsw\\Anaconda3\\lib\\json\\__init__.py\u001b[0m in \u001b[0;36mloads\u001b[1;34m(s, encoding, cls, object_hook, parse_float, parse_int, parse_constant, object_pairs_hook, **kw)\u001b[0m\n\u001b[0;32m    317\u001b[0m             \u001b[0mparse_int\u001b[0m \u001b[1;32mis\u001b[0m \u001b[1;32mNone\u001b[0m \u001b[1;32mand\u001b[0m \u001b[0mparse_float\u001b[0m \u001b[1;32mis\u001b[0m \u001b[1;32mNone\u001b[0m \u001b[1;32mand\u001b[0m\u001b[1;33m\u001b[0m\u001b[0m\n\u001b[0;32m    318\u001b[0m             parse_constant is None and object_pairs_hook is None and not kw):\n\u001b[1;32m--> 319\u001b[1;33m         \u001b[1;32mreturn\u001b[0m \u001b[0m_default_decoder\u001b[0m\u001b[1;33m.\u001b[0m\u001b[0mdecode\u001b[0m\u001b[1;33m(\u001b[0m\u001b[0ms\u001b[0m\u001b[1;33m)\u001b[0m\u001b[1;33m\u001b[0m\u001b[0m\n\u001b[0m\u001b[0;32m    320\u001b[0m     \u001b[1;32mif\u001b[0m \u001b[0mcls\u001b[0m \u001b[1;32mis\u001b[0m \u001b[1;32mNone\u001b[0m\u001b[1;33m:\u001b[0m\u001b[1;33m\u001b[0m\u001b[0m\n\u001b[0;32m    321\u001b[0m         \u001b[0mcls\u001b[0m \u001b[1;33m=\u001b[0m \u001b[0mJSONDecoder\u001b[0m\u001b[1;33m\u001b[0m\u001b[0m\n",
      "\u001b[1;32mC:\\Users\\dnjsw\\Anaconda3\\lib\\json\\decoder.py\u001b[0m in \u001b[0;36mdecode\u001b[1;34m(self, s, _w)\u001b[0m\n\u001b[0;32m    337\u001b[0m \u001b[1;33m\u001b[0m\u001b[0m\n\u001b[0;32m    338\u001b[0m         \"\"\"\n\u001b[1;32m--> 339\u001b[1;33m         \u001b[0mobj\u001b[0m\u001b[1;33m,\u001b[0m \u001b[0mend\u001b[0m \u001b[1;33m=\u001b[0m \u001b[0mself\u001b[0m\u001b[1;33m.\u001b[0m\u001b[0mraw_decode\u001b[0m\u001b[1;33m(\u001b[0m\u001b[0ms\u001b[0m\u001b[1;33m,\u001b[0m \u001b[0midx\u001b[0m\u001b[1;33m=\u001b[0m\u001b[0m_w\u001b[0m\u001b[1;33m(\u001b[0m\u001b[0ms\u001b[0m\u001b[1;33m,\u001b[0m \u001b[1;36m0\u001b[0m\u001b[1;33m)\u001b[0m\u001b[1;33m.\u001b[0m\u001b[0mend\u001b[0m\u001b[1;33m(\u001b[0m\u001b[1;33m)\u001b[0m\u001b[1;33m)\u001b[0m\u001b[1;33m\u001b[0m\u001b[0m\n\u001b[0m\u001b[0;32m    340\u001b[0m         \u001b[0mend\u001b[0m \u001b[1;33m=\u001b[0m \u001b[0m_w\u001b[0m\u001b[1;33m(\u001b[0m\u001b[0ms\u001b[0m\u001b[1;33m,\u001b[0m \u001b[0mend\u001b[0m\u001b[1;33m)\u001b[0m\u001b[1;33m.\u001b[0m\u001b[0mend\u001b[0m\u001b[1;33m(\u001b[0m\u001b[1;33m)\u001b[0m\u001b[1;33m\u001b[0m\u001b[0m\n\u001b[0;32m    341\u001b[0m         \u001b[1;32mif\u001b[0m \u001b[0mend\u001b[0m \u001b[1;33m!=\u001b[0m \u001b[0mlen\u001b[0m\u001b[1;33m(\u001b[0m\u001b[0ms\u001b[0m\u001b[1;33m)\u001b[0m\u001b[1;33m:\u001b[0m\u001b[1;33m\u001b[0m\u001b[0m\n",
      "\u001b[1;32mC:\\Users\\dnjsw\\Anaconda3\\lib\\json\\decoder.py\u001b[0m in \u001b[0;36mraw_decode\u001b[1;34m(self, s, idx)\u001b[0m\n\u001b[0;32m    353\u001b[0m         \"\"\"\n\u001b[0;32m    354\u001b[0m         \u001b[1;32mtry\u001b[0m\u001b[1;33m:\u001b[0m\u001b[1;33m\u001b[0m\u001b[0m\n\u001b[1;32m--> 355\u001b[1;33m             \u001b[0mobj\u001b[0m\u001b[1;33m,\u001b[0m \u001b[0mend\u001b[0m \u001b[1;33m=\u001b[0m \u001b[0mself\u001b[0m\u001b[1;33m.\u001b[0m\u001b[0mscan_once\u001b[0m\u001b[1;33m(\u001b[0m\u001b[0ms\u001b[0m\u001b[1;33m,\u001b[0m \u001b[0midx\u001b[0m\u001b[1;33m)\u001b[0m\u001b[1;33m\u001b[0m\u001b[0m\n\u001b[0m\u001b[0;32m    356\u001b[0m         \u001b[1;32mexcept\u001b[0m \u001b[0mStopIteration\u001b[0m \u001b[1;32mas\u001b[0m \u001b[0merr\u001b[0m\u001b[1;33m:\u001b[0m\u001b[1;33m\u001b[0m\u001b[0m\n\u001b[0;32m    357\u001b[0m             \u001b[1;32mraise\u001b[0m \u001b[0mJSONDecodeError\u001b[0m\u001b[1;33m(\u001b[0m\u001b[1;34m\"Expecting value\"\u001b[0m\u001b[1;33m,\u001b[0m \u001b[0ms\u001b[0m\u001b[1;33m,\u001b[0m \u001b[0merr\u001b[0m\u001b[1;33m.\u001b[0m\u001b[0mvalue\u001b[0m\u001b[1;33m)\u001b[0m \u001b[1;32mfrom\u001b[0m \u001b[1;32mNone\u001b[0m\u001b[1;33m\u001b[0m\u001b[0m\n",
      "\u001b[1;31mJSONDecodeError\u001b[0m: Expecting property name enclosed in double quotes: line 1 column 2 (char 1)"
     ]
    }
   ],
   "source": [
    "import json\n",
    "\n",
    "{“labels”: [“2019-11-20T13:22:22.000Z”, “2019-11-21T13:22:22.000Z”, “2019-11-22T13:22:22.000Z”, “2019-11-23T13:22:22.000Z”, “2019-11-24T13:22:22.000Z”, “2019-11-25T13:22:22.000Z”, “2019-11-26T13:22:22.000Z”, “2019-11-27T13:22:22.000Z”, “2019-11-28T13:22:22.000Z”, “2019-11-29T13:22:22.000Z”, “2019-11-30T13:22:22.000Z”, “2019-12-01T13:22:22.000Z”, “2019-12-02T13:22:22.000Z”, “2019-12-03T13:22:22.000Z”, “2019-12-04T13:22:22.000Z”, “2019-12-05T13:22:22.000Z”, “2019-12-06T13:22:22.000Z”, “2019-12-07T13:22:22.000Z”, “2019-12-08T13:22:22.000Z”, “2019-12-09T13:22:22.000Z”, “2019-12-10T13:22:22.000Z”], “data”: [22500, 100000, 59000, 2000, 9000, 7900, 10000, 11600, 60000, 35500, 120000, 36100, 202000, 39000, 85000, 131000, 106400, 30000, 99000, 147800, 30000]}\n",
    "\n",
    "with open(\"product_price_predic.json\",\"r\") as f:\n",
    "    json_data = json.load(f)\n",
    "print(json.dumps(json_data))"
   ]
  },
  {
   "cell_type": "code",
   "execution_count": 13,
   "metadata": {},
   "outputs": [],
   "source": [
    "import json\n",
    "from collections import OrderedDict\n",
    "\n",
    "date = [\"2019-11-20T13:22:22.000Z\", \"2019-11-21T13:22:22.000Z\", \"2019-11-22T13:22:22.000Z\", \"2019-11-23T13:22:22.000Z\", \n",
    "        \"2019-11-24T13:22:22.000Z\", \"2019-11-25T13:22:22.000Z\", \"2019-11-26T13:22:22.000Z\", \"2019-11-27T13:22:22.000Z\", \n",
    "        \"2019-11-28T13:22:22.000Z\", \"2019-11-29T13:22:22.000Z\", \"2019-11-30T13:22:22.000Z\", \"2019-12-01T13:22:22.000Z\", \n",
    "        \"2019-12-02T13:22:22.000Z\", \"2019-12-03T13:22:22.000Z\", \"2019-12-04T13:22:22.000Z\", \"2019-12-05T13:22:22.000Z\", \n",
    "        \"2019-12-06T13:22:22.000Z\", \"2019-12-07T13:22:22.000Z\", \"2019-12-08T13:22:22.000Z\", \"2019-12-09T13:22:22.000Z\", \n",
    "        \"2019-12-10T13:22:22.000Z\"]\n",
    "price =[22500, 100000, 59000, 2000, 9000, 7900, 10000, 11600, 60000, 35500, 120000, 36100, 202000, 39000, 85000, 131000, 106400, 30000, 99000, 147800, 30000]\n",
    "\n",
    "result_dic = dict(zip(date,price))\n",
    "file_data = OrderedDict()\n",
    "file_data[\"labels\"] = date\n",
    "file_data[\"data\"] = price\n",
    "j_file = json.dumps(file_data, ensure_ascii=False,indent=\"\\t\")"
   ]
  },
  {
   "cell_type": "code",
   "execution_count": 10,
   "metadata": {},
   "outputs": [
    {
     "data": {
      "text/plain": [
       "['2019-11-20T13:22:22.000Z',\n",
       " '2019-11-21T13:22:22.000Z',\n",
       " '2019-11-22T13:22:22.000Z',\n",
       " '2019-11-23T13:22:22.000Z',\n",
       " '2019-11-24T13:22:22.000Z',\n",
       " '2019-11-25T13:22:22.000Z',\n",
       " '2019-11-26T13:22:22.000Z',\n",
       " '2019-11-27T13:22:22.000Z',\n",
       " '2019-11-28T13:22:22.000Z',\n",
       " '2019-11-29T13:22:22.000Z',\n",
       " '2019-11-30T13:22:22.000Z',\n",
       " '2019-12-01T13:22:22.000Z',\n",
       " '2019-12-02T13:22:22.000Z',\n",
       " '2019-12-03T13:22:22.000Z',\n",
       " '2019-12-04T13:22:22.000Z',\n",
       " '2019-12-05T13:22:22.000Z',\n",
       " '2019-12-06T13:22:22.000Z',\n",
       " '2019-12-07T13:22:22.000Z',\n",
       " '2019-12-08T13:22:22.000Z',\n",
       " '2019-12-09T13:22:22.000Z',\n",
       " '2019-12-10T13:22:22.000Z']"
      ]
     },
     "execution_count": 10,
     "metadata": {},
     "output_type": "execute_result"
    }
   ],
   "source": [
    "date = [\"2019-11-20T13:22:22.000Z\", \"2019-11-21T13:22:22.000Z\", \"2019-11-22T13:22:22.000Z\", \"2019-11-23T13:22:22.000Z\", \n",
    "        \"2019-11-24T13:22:22.000Z\", \"2019-11-25T13:22:22.000Z\", \"2019-11-26T13:22:22.000Z\", \"2019-11-27T13:22:22.000Z\", \n",
    "        \"2019-11-28T13:22:22.000Z\", \"2019-11-29T13:22:22.000Z\", \"2019-11-30T13:22:22.000Z\", \"2019-12-01T13:22:22.000Z\", \n",
    "        \"2019-12-02T13:22:22.000Z\", \"2019-12-03T13:22:22.000Z\", \"2019-12-04T13:22:22.000Z\", \"2019-12-05T13:22:22.000Z\", \n",
    "        \"2019-12-06T13:22:22.000Z\", \"2019-12-07T13:22:22.000Z\", \"2019-12-08T13:22:22.000Z\", \"2019-12-09T13:22:22.000Z\", \n",
    "        \"2019-12-10T13:22:22.000Z\"]\n",
    "price =[22500, 100000, 59000, 2000, 9000, 7900, 10000, 11600, 60000, 35500, 120000, 36100, 202000, 39000, 85000, 131000, 106400, 30000, 99000, 147800, 30000]"
   ]
  },
  {
   "cell_type": "code",
   "execution_count": 40,
   "metadata": {
    "scrolled": true
   },
   "outputs": [
    {
     "name": "stdout",
     "output_type": "stream",
     "text": [
      "Train on 7 samples, validate on 3 samples\n",
      "Epoch 1/10\n",
      "7/7 [==============================] - 0s 16ms/step - loss: 0.0760 - val_loss: 0.0696\n",
      "Epoch 2/10\n",
      "7/7 [==============================] - 0s 13ms/step - loss: 0.0792 - val_loss: 0.0712\n",
      "Epoch 3/10\n",
      "7/7 [==============================] - 0s 14ms/step - loss: 0.0792 - val_loss: 0.0768\n",
      "Epoch 4/10\n",
      "7/7 [==============================] - 0s 15ms/step - loss: 0.0773 - val_loss: 0.0702\n",
      "Epoch 5/10\n",
      "7/7 [==============================] - 0s 14ms/step - loss: 0.0783 - val_loss: 0.0701\n",
      "Epoch 6/10\n",
      "7/7 [==============================] - 0s 14ms/step - loss: 0.0786 - val_loss: 0.0763\n",
      "Epoch 7/10\n",
      "7/7 [==============================] - 0s 14ms/step - loss: 0.0780 - val_loss: 0.0705\n",
      "Epoch 8/10\n",
      "7/7 [==============================] - 0s 14ms/step - loss: 0.0791 - val_loss: 0.0756\n",
      "Epoch 9/10\n",
      "7/7 [==============================] - 0s 14ms/step - loss: 0.0786 - val_loss: 0.0786\n",
      "Epoch 10/10\n",
      "7/7 [==============================] - 0s 14ms/step - loss: 0.0781 - val_loss: 0.0813\n",
      "330953.02\n"
     ]
    }
   ],
   "source": [
    "from numpy import asarray\n",
    "\n",
    "doc = json.loads(j_file)\n",
    "price = dic['data']\n",
    "price = asarray(price)\n",
    "price_max = max(price)\n",
    "price_min = min(price)\n",
    "\n",
    "price = ((price-price_min)/(price_max-price_min))\n",
    "\n",
    "#creaete Windows\n",
    "seq_len = 10 #최근 10일에 데이터를 가지고 미래 예측\n",
    "sequence_length = seq_len + 1\n",
    "\n",
    "result = []\n",
    "for index in range(len(price)-sequence_length):\n",
    "    result.append(price[index:index+sequence_length])\n",
    "    \n",
    "normalized_data = []\n",
    "for window in result:\n",
    "    normalized_data.append(window)\n",
    "result = np.array(normalized_data)\n",
    "\n",
    "row = int(round(result.shape[0]*0.7))\n",
    "train = result[:row,:]\n",
    "np.random.shuffle(train)\n",
    "\n",
    "x_train = train[:,:-1]\n",
    "x_train = np.reshape(x_train,(x_train.shape[0],x_train.shape[1],1))\n",
    "y_train = train[:,-1]\n",
    "\n",
    "x_test = result[row:,:-1]\n",
    "x_test = np.reshape(x_test,(x_test.shape[0],x_test.shape[1],1))\n",
    "y_test = result[row:,-1]\n",
    "\n",
    "x_train.shape, x_test.shape\n",
    "\n",
    "model.fit(x_train,y_train,\n",
    "          validation_data=(x_test,y_test),\n",
    "          batch_size=1,\n",
    "          epochs=10)\n",
    "\n",
    "pred = model.predict(x_test)\n",
    "result = pred[-1]*(price_max-price_min)+price_max\n",
    "price_prediction = \"%0.2f\"%result\n",
    "print(price_prediction)"
   ]
  },
  {
   "cell_type": "code",
   "execution_count": 33,
   "metadata": {},
   "outputs": [
    {
     "ename": "TypeError",
     "evalue": "unsupported operand type(s) for -: 'list' and 'int'",
     "output_type": "error",
     "traceback": [
      "\u001b[1;31m---------------------------------------------------------------------------\u001b[0m",
      "\u001b[1;31mTypeError\u001b[0m                                 Traceback (most recent call last)",
      "\u001b[1;32m<ipython-input-33-4ad1b9d39632>\u001b[0m in \u001b[0;36m<module>\u001b[1;34m()\u001b[0m\n\u001b[1;32m----> 1\u001b[1;33m \u001b[0mprice\u001b[0m\u001b[1;33m-\u001b[0m\u001b[0mprice_min\u001b[0m\u001b[1;33m\u001b[0m\u001b[0m\n\u001b[0m",
      "\u001b[1;31mTypeError\u001b[0m: unsupported operand type(s) for -: 'list' and 'int'"
     ]
    }
   ],
   "source": [
    "price-price_min"
   ]
  },
  {
   "cell_type": "code",
   "execution_count": null,
   "metadata": {
    "collapsed": true
   },
   "outputs": [],
   "source": []
  },
  {
   "cell_type": "code",
   "execution_count": 21,
   "metadata": {},
   "outputs": [
    {
     "ename": "TypeError",
     "evalue": "unsupported operand type(s) for -: 'list' and 'int'",
     "output_type": "error",
     "traceback": [
      "\u001b[1;31m---------------------------------------------------------------------------\u001b[0m",
      "\u001b[1;31mTypeError\u001b[0m                                 Traceback (most recent call last)",
      "\u001b[1;32m<ipython-input-21-9e0d53a21881>\u001b[0m in \u001b[0;36m<module>\u001b[1;34m()\u001b[0m\n\u001b[0;32m      6\u001b[0m \u001b[0mprice_max\u001b[0m\u001b[1;33m\u001b[0m\u001b[0m\n\u001b[0;32m      7\u001b[0m \u001b[1;33m\u001b[0m\u001b[0m\n\u001b[1;32m----> 8\u001b[1;33m \u001b[0mprice\u001b[0m \u001b[1;33m=\u001b[0m \u001b[1;33m(\u001b[0m\u001b[1;33m(\u001b[0m\u001b[0mprice\u001b[0m\u001b[1;33m-\u001b[0m\u001b[0mprice_min\u001b[0m\u001b[1;33m)\u001b[0m\u001b[1;33m/\u001b[0m\u001b[1;33m(\u001b[0m\u001b[0mprice_max\u001b[0m\u001b[1;33m-\u001b[0m\u001b[0mprice_min\u001b[0m\u001b[1;33m)\u001b[0m\u001b[1;33m)\u001b[0m\u001b[1;33m\u001b[0m\u001b[0m\n\u001b[0m\u001b[0;32m      9\u001b[0m \u001b[1;33m\u001b[0m\u001b[0m\n\u001b[0;32m     10\u001b[0m \u001b[1;31m#creaete Windows\u001b[0m\u001b[1;33m\u001b[0m\u001b[1;33m\u001b[0m\u001b[0m\n",
      "\u001b[1;31mTypeError\u001b[0m: unsupported operand type(s) for -: 'list' and 'int'"
     ]
    }
   ],
   "source": [
    "price = df['total']\n",
    "price_max = max(price)\n",
    "price_min = min(price)\n",
    "price_max\n",
    "\n",
    "price = ((price-price_min)/(price_max-price_min))\n",
    "\n",
    "#creaete Windows\n",
    "seq_len = 10 #최근 10일에 데이터를 가지고 미래 예측\n",
    "sequence_length = seq_len + 1\n",
    "\n",
    "result = []\n",
    "for index in range(len(price)-sequence_length):\n",
    "    result.append(price[index:index+sequence_length])\n",
    "    \n",
    "normalized_data = []\n",
    "for window in result:\n",
    "    normalized_data.append(window)\n",
    "result = np.array(normalized_data)\n",
    "\n",
    "row = int(round(result.shape[0]*0.7))\n",
    "train = result[:row,:]\n",
    "np.random.shuffle(train)\n",
    "\n",
    "x_train = train[:,:-1]\n",
    "x_train = np.reshape(x_train,(x_train.shape[0],x_train.shape[1],1))\n",
    "y_train = train[:,-1]\n",
    "\n",
    "x_test = result[row:,:-1]\n",
    "x_test = np.reshape(x_test,(x_test.shape[0],x_test.shape[1],1))\n",
    "y_test = result[row:,-1]\n",
    "\n",
    "x_train.shape, x_test.shape\n",
    "\n",
    "model.fit(x_train,y_train,\n",
    "          validation_data=(x_test,y_test),\n",
    "          batch_size=1,\n",
    "          epochs=10)\n",
    "\n",
    "pred = model.predict(x_test)\n",
    "result = pred[-1]*(price_max-price_min)+price_max\n",
    "price_prediction = \"%0.2f\"%result"
   ]
  },
  {
   "cell_type": "code",
   "execution_count": 43,
   "metadata": {},
   "outputs": [
    {
     "data": {
      "text/plain": [
       "330953.02"
      ]
     },
     "execution_count": 43,
     "metadata": {},
     "output_type": "execute_result"
    }
   ],
   "source": [
    "float(price_prediction)"
   ]
  },
  {
   "cell_type": "code",
   "execution_count": null,
   "metadata": {
    "collapsed": true
   },
   "outputs": [],
   "source": []
  },
  {
   "cell_type": "code",
   "execution_count": null,
   "metadata": {
    "collapsed": true
   },
   "outputs": [],
   "source": []
  },
  {
   "cell_type": "code",
   "execution_count": null,
   "metadata": {
    "collapsed": true
   },
   "outputs": [],
   "source": [
    "price = json.loads"
   ]
  },
  {
   "cell_type": "code",
   "execution_count": null,
   "metadata": {
    "collapsed": true
   },
   "outputs": [],
   "source": []
  },
  {
   "cell_type": "code",
   "execution_count": null,
   "metadata": {
    "collapsed": true
   },
   "outputs": [],
   "source": []
  },
  {
   "cell_type": "code",
   "execution_count": null,
   "metadata": {
    "collapsed": true
   },
   "outputs": [],
   "source": [
    "from flask import Flask, render_template, request\n",
    "import json\n",
    "\n",
    "app = Flask(__name__)\n",
    "\n",
    "\n",
    "@app.route('/')\n",
    "def hello_world():\n",
    "    return 'Hello World!'\n",
    "\n",
    "@app.route('/test')\n",
    "def test():\n",
    "    return render_template('post.html')\n",
    "\n",
    "@app.route('/price_prediction', methods=['POST'])\n",
    "def price_prediction():\n",
    "    if request.method == 'POST':\n",
    "    \n",
    "        price = []\n",
    "        for i in \n",
    "        price = request.form[i]\n",
    "\n",
    "        value = request.form['test']\n",
    "\n",
    "\n",
    "        price = df['total']\n",
    "        price_max = max(price)\n",
    "        price_min = min(price)\n",
    "        price_max\n",
    "\n",
    "        price = ((price-price_min)/(price_max-price_min))\n",
    "\n",
    "        #creaete Windows\n",
    "        seq_len = 10 #최근 10일에 데이터를 가지고 미래 예측\n",
    "        sequence_length = seq_len + 1\n",
    "\n",
    "        result = []\n",
    "        for index in range(len(price)-sequence_length):\n",
    "            result.append(price[index:index+sequence_length])\n",
    "\n",
    "        normalized_data = []\n",
    "        for window in result:\n",
    "            normalized_data.append(window)\n",
    "        result = np.array(normalized_data)\n",
    "\n",
    "        row = int(round(result.shape[0]*0.7))\n",
    "        train = result[:row,:]\n",
    "        np.random.shuffle(train)\n",
    "\n",
    "        x_train = train[:,:-1]\n",
    "        x_train = np.reshape(x_train,(x_train.shape[0],x_train.shape[1],1))\n",
    "        y_train = train[:,-1]\n",
    "\n",
    "        x_test = result[row:,:-1]\n",
    "        x_test = np.reshape(x_test,(x_test.shape[0],x_test.shape[1],1))\n",
    "        y_test = result[row:,-1]\n",
    "\n",
    "        x_train.shape, x_test.shape\n",
    "\n",
    "        model.fit(x_train,y_train,\n",
    "                  validation_data=(x_test,y_test),\n",
    "                  batch_size=1,\n",
    "                  epochs=10)\n",
    "\n",
    "        pred = model.predict(x_test)\n",
    "        result = pred[-1]*(price_max-price_min)+price_max\n",
    "        price_prediction = \"%0.2f\"%result\n",
    "\n",
    "        return float(price_prediction)"
   ]
  },
  {
   "cell_type": "code",
   "execution_count": null,
   "metadata": {
    "collapsed": true
   },
   "outputs": [],
   "source": []
  },
  {
   "cell_type": "code",
   "execution_count": null,
   "metadata": {
    "collapsed": true
   },
   "outputs": [],
   "source": []
  },
  {
   "cell_type": "code",
   "execution_count": null,
   "metadata": {
    "collapsed": true
   },
   "outputs": [],
   "source": []
  },
  {
   "cell_type": "code",
   "execution_count": null,
   "metadata": {
    "collapsed": true
   },
   "outputs": [],
   "source": []
  }
 ],
 "metadata": {
  "kernelspec": {
   "display_name": "Python [conda env:Anaconda3]",
   "language": "python",
   "name": "conda-env-Anaconda3-py"
  },
  "language_info": {
   "codemirror_mode": {
    "name": "ipython",
    "version": 3
   },
   "file_extension": ".py",
   "mimetype": "text/x-python",
   "name": "python",
   "nbconvert_exporter": "python",
   "pygments_lexer": "ipython3",
   "version": "3.5.6"
  }
 },
 "nbformat": 4,
 "nbformat_minor": 2
}
